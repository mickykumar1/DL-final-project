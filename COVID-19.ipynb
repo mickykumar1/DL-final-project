{
 "cells": [
  {
   "cell_type": "markdown",
   "metadata": {},
   "source": [
    "# Final term project"
   ]
  },
  {
   "cell_type": "markdown",
   "metadata": {},
   "source": [
    "## Team Name\n",
    "Micky Kumar\n",
    "<br>\n",
    "Iram\n",
    "<br>\n",
    "Harold"
   ]
  },
  {
   "cell_type": "markdown",
   "metadata": {},
   "source": [
    "## Import"
   ]
  },
  {
   "cell_type": "code",
   "execution_count": 16,
   "metadata": {},
   "outputs": [],
   "source": [
    "import keras\n",
    "from keras.models import Sequential\n",
    "from keras.layers import Dense, Dropout, Flatten\n",
    "from keras.layers import Conv2D, MaxPooling2D\n",
    "from keras.models import Model\n",
    "from keras import applications\n",
    "import tensorflow as tf\n",
    "from tqdm import tqdm\n",
    "from sklearn.model_selection import train_test_split\n",
    "import numpy as np # linear algebra\n",
    "import pandas as pd # data processing, CSV file I/O (e.g. pd.read_csv)\n",
    "import matplotlib.pyplot as plt\n",
    "import seaborn as sns\n",
    "import cv2\n",
    "import glob"
   ]
  },
  {
   "cell_type": "markdown",
   "metadata": {},
   "source": [
    "##  data preparation "
   ]
  },
  {
   "cell_type": "markdown",
   "metadata": {},
   "source": [
    "### Project Overview"
   ]
  },
  {
   "cell_type": "markdown",
   "metadata": {},
   "source": [
    "Based on the COVID-19 Cases dataset from open data toronto, this project will show detail about covid-19 by the Toronto public health. The details include demographic, geographic, and severity information for all confirmed and likely cases.  "
   ]
  },
  {
   "cell_type": "markdown",
   "metadata": {},
   "source": [
    "### Research question and problem framing"
   ]
  },
  {
   "cell_type": "markdown",
   "metadata": {},
   "source": [
    "Based on this dataset, we are trying to predict the outcome based on age. This will allows people to know what age are getting more affected by COVID-19 and how to support them.\n",
    "\n",
    "<br>\n",
    "Who: The stakeholders will for this project will be people are creating a medicine for COVID-19, but also everyone will the community. \n",
    "<br>\n",
    "\n",
    "What: In this problem, we are trying to invesigate about COVID-19 and the affect on it\n",
    "<br>\n",
    "\n",
    "When: This problem needs to complete as soon as possible because this is affecting everyone daily life and health.\n",
    "<br>\n",
    "\n",
    "Where: The COVID-19 is affecting worldwide and it is a worldwide pandemic.\n"
   ]
  },
  {
   "cell_type": "markdown",
   "metadata": {},
   "source": [
    "### Types of features"
   ]
  },
  {
   "cell_type": "markdown",
   "metadata": {},
   "source": [
    "The dataset that is being used are:\n",
    "<br>\n",
    "- _id: This created a unique id for the cases that comes in.\n",
    "- Outbreak Associated: This talks about where the outbreak is occuring in Toronto.\n",
    "- Age Group: This feature is about age groups for COVID-19\n",
    "- Neighbourhood Name: This feature talks about Toronto divided into 140 geographically distinct neighborhoods and can be used to understandwhere most cases are coming from\n",
    "- FSA: This feature creates a unique code based on client postal code and help understand where thae case is occuring.\n",
    "- Source of Infection: The feature talks aboutbefore symptoms start are potential acquisition sources. this include travels, close contact with a case, institutional setting, healthcare setting, community, pending, unknown/missing, and N/A.\n",
    "- Classification:The feaure is about categorize the cases as confirmed according to standard criteria\n",
    "- Episode Date: The feature talks about the date when the symptom occured.\n",
    "- Reported Date: The feature talks about date on which the case was reported to Toronto Public Health\n",
    "- Client Gender: The feature that classifies people based on their assigned biological sex\n",
    "- Outcome: This feature is include fatal(cases with a fatal outcome reported), resolved (case that is more than 14 days or the patient is recoved), Active (All other cases that is remaining)\n",
    "- Currently Hospitalized: The feature talks about cases that are currently admitted to hospital\n",
    "- Currently in ICU: The feature is about cases that are currently admitted to the intensive care unit with no discharge date.\n",
    "- Currently Intubated: The feature is about cases that were intubated. \n",
    "- Ever Hospitalized:The feature is about cases that were hospitalized. \n",
    "- Ever in ICU: This feature is the cases that were admitted to the intensive care unit (ICU). \n",
    "- Ever Intubated: This feature talks about cases that are currently intubated and that have been discharged."
   ]
  },
  {
   "cell_type": "markdown",
   "metadata": {},
   "source": [
    "### Explore"
   ]
  },
  {
   "cell_type": "code",
   "execution_count": 30,
   "metadata": {},
   "outputs": [
    {
     "data": {
      "text/plain": [
       "(14691, 17)"
      ]
     },
     "execution_count": 30,
     "metadata": {},
     "output_type": "execute_result"
    }
   ],
   "source": [
    "covid19 = pd.read_csv('C:/Users/Micky/Downloads/COVID19-cases.csv')\n",
    "covid19.shape"
   ]
  },
  {
   "cell_type": "code",
   "execution_count": 9,
   "metadata": {},
   "outputs": [
    {
     "data": {
      "text/html": [
       "<div>\n",
       "<style scoped>\n",
       "    .dataframe tbody tr th:only-of-type {\n",
       "        vertical-align: middle;\n",
       "    }\n",
       "\n",
       "    .dataframe tbody tr th {\n",
       "        vertical-align: top;\n",
       "    }\n",
       "\n",
       "    .dataframe thead th {\n",
       "        text-align: right;\n",
       "    }\n",
       "</style>\n",
       "<table border=\"1\" class=\"dataframe\">\n",
       "  <thead>\n",
       "    <tr style=\"text-align: right;\">\n",
       "      <th></th>\n",
       "      <th>_id</th>\n",
       "      <th>Outbreak Associated</th>\n",
       "      <th>Age Group</th>\n",
       "      <th>Neighbourhood Name</th>\n",
       "      <th>FSA</th>\n",
       "      <th>Source of Infection</th>\n",
       "      <th>Classification</th>\n",
       "      <th>Episode Date</th>\n",
       "      <th>Reported Date</th>\n",
       "      <th>Client Gender</th>\n",
       "      <th>Outcome</th>\n",
       "      <th>Currently Hospitalized</th>\n",
       "      <th>Currently in ICU</th>\n",
       "      <th>Currently Intubated</th>\n",
       "      <th>Ever Hospitalized</th>\n",
       "      <th>Ever in ICU</th>\n",
       "      <th>Ever Intubated</th>\n",
       "    </tr>\n",
       "  </thead>\n",
       "  <tbody>\n",
       "    <tr>\n",
       "      <td>0</td>\n",
       "      <td>14692</td>\n",
       "      <td>Sporadic</td>\n",
       "      <td>50-59</td>\n",
       "      <td>Malvern</td>\n",
       "      <td>M1B</td>\n",
       "      <td>Institutional</td>\n",
       "      <td>CONFIRMED</td>\n",
       "      <td>2020-03-25</td>\n",
       "      <td>2020-03-27</td>\n",
       "      <td>MALE</td>\n",
       "      <td>RESOLVED</td>\n",
       "      <td>No</td>\n",
       "      <td>No</td>\n",
       "      <td>No</td>\n",
       "      <td>No</td>\n",
       "      <td>No</td>\n",
       "      <td>No</td>\n",
       "    </tr>\n",
       "    <tr>\n",
       "      <td>1</td>\n",
       "      <td>14693</td>\n",
       "      <td>Sporadic</td>\n",
       "      <td>20-29</td>\n",
       "      <td>Malvern</td>\n",
       "      <td>M1B</td>\n",
       "      <td>Community</td>\n",
       "      <td>CONFIRMED</td>\n",
       "      <td>2020-03-20</td>\n",
       "      <td>2020-03-28</td>\n",
       "      <td>MALE</td>\n",
       "      <td>RESOLVED</td>\n",
       "      <td>No</td>\n",
       "      <td>No</td>\n",
       "      <td>No</td>\n",
       "      <td>Yes</td>\n",
       "      <td>No</td>\n",
       "      <td>No</td>\n",
       "    </tr>\n",
       "    <tr>\n",
       "      <td>2</td>\n",
       "      <td>14694</td>\n",
       "      <td>Sporadic</td>\n",
       "      <td>60-69</td>\n",
       "      <td>Malvern</td>\n",
       "      <td>M1B</td>\n",
       "      <td>Travel</td>\n",
       "      <td>CONFIRMED</td>\n",
       "      <td>2020-03-04</td>\n",
       "      <td>2020-03-08</td>\n",
       "      <td>FEMALE</td>\n",
       "      <td>RESOLVED</td>\n",
       "      <td>No</td>\n",
       "      <td>No</td>\n",
       "      <td>No</td>\n",
       "      <td>Yes</td>\n",
       "      <td>Yes</td>\n",
       "      <td>Yes</td>\n",
       "    </tr>\n",
       "    <tr>\n",
       "      <td>3</td>\n",
       "      <td>14695</td>\n",
       "      <td>Outbreak Associated</td>\n",
       "      <td>50-59</td>\n",
       "      <td>Rouge</td>\n",
       "      <td>M1B</td>\n",
       "      <td>N/A - Outbreak associated</td>\n",
       "      <td>CONFIRMED</td>\n",
       "      <td>2020-05-02</td>\n",
       "      <td>2020-05-04</td>\n",
       "      <td>FEMALE</td>\n",
       "      <td>RESOLVED</td>\n",
       "      <td>No</td>\n",
       "      <td>No</td>\n",
       "      <td>No</td>\n",
       "      <td>No</td>\n",
       "      <td>No</td>\n",
       "      <td>No</td>\n",
       "    </tr>\n",
       "    <tr>\n",
       "      <td>4</td>\n",
       "      <td>14696</td>\n",
       "      <td>Sporadic</td>\n",
       "      <td>30-39</td>\n",
       "      <td>Rouge</td>\n",
       "      <td>M1B</td>\n",
       "      <td>Close contact</td>\n",
       "      <td>CONFIRMED</td>\n",
       "      <td>2020-05-31</td>\n",
       "      <td>2020-06-06</td>\n",
       "      <td>FEMALE</td>\n",
       "      <td>RESOLVED</td>\n",
       "      <td>No</td>\n",
       "      <td>No</td>\n",
       "      <td>No</td>\n",
       "      <td>No</td>\n",
       "      <td>No</td>\n",
       "      <td>No</td>\n",
       "    </tr>\n",
       "  </tbody>\n",
       "</table>\n",
       "</div>"
      ],
      "text/plain": [
       "     _id  Outbreak Associated Age Group Neighbourhood Name  FSA  \\\n",
       "0  14692             Sporadic     50-59            Malvern  M1B   \n",
       "1  14693             Sporadic     20-29            Malvern  M1B   \n",
       "2  14694             Sporadic     60-69            Malvern  M1B   \n",
       "3  14695  Outbreak Associated     50-59              Rouge  M1B   \n",
       "4  14696             Sporadic     30-39              Rouge  M1B   \n",
       "\n",
       "         Source of Infection Classification Episode Date Reported Date  \\\n",
       "0              Institutional      CONFIRMED   2020-03-25    2020-03-27   \n",
       "1                  Community      CONFIRMED   2020-03-20    2020-03-28   \n",
       "2                     Travel      CONFIRMED   2020-03-04    2020-03-08   \n",
       "3  N/A - Outbreak associated      CONFIRMED   2020-05-02    2020-05-04   \n",
       "4              Close contact      CONFIRMED   2020-05-31    2020-06-06   \n",
       "\n",
       "  Client Gender   Outcome Currently Hospitalized Currently in ICU  \\\n",
       "0          MALE  RESOLVED                     No               No   \n",
       "1          MALE  RESOLVED                     No               No   \n",
       "2        FEMALE  RESOLVED                     No               No   \n",
       "3        FEMALE  RESOLVED                     No               No   \n",
       "4        FEMALE  RESOLVED                     No               No   \n",
       "\n",
       "  Currently Intubated Ever Hospitalized Ever in ICU Ever Intubated  \n",
       "0                  No                No          No             No  \n",
       "1                  No               Yes          No             No  \n",
       "2                  No               Yes         Yes            Yes  \n",
       "3                  No                No          No             No  \n",
       "4                  No                No          No             No  "
      ]
     },
     "execution_count": 9,
     "metadata": {},
     "output_type": "execute_result"
    }
   ],
   "source": [
    "covid19.head()"
   ]
  },
  {
   "cell_type": "code",
   "execution_count": 10,
   "metadata": {},
   "outputs": [
    {
     "data": {
      "text/html": [
       "<div>\n",
       "<style scoped>\n",
       "    .dataframe tbody tr th:only-of-type {\n",
       "        vertical-align: middle;\n",
       "    }\n",
       "\n",
       "    .dataframe tbody tr th {\n",
       "        vertical-align: top;\n",
       "    }\n",
       "\n",
       "    .dataframe thead th {\n",
       "        text-align: right;\n",
       "    }\n",
       "</style>\n",
       "<table border=\"1\" class=\"dataframe\">\n",
       "  <thead>\n",
       "    <tr style=\"text-align: right;\">\n",
       "      <th></th>\n",
       "      <th>_id</th>\n",
       "      <th>Outbreak Associated</th>\n",
       "      <th>Age Group</th>\n",
       "      <th>Neighbourhood Name</th>\n",
       "      <th>FSA</th>\n",
       "      <th>Source of Infection</th>\n",
       "      <th>Classification</th>\n",
       "      <th>Episode Date</th>\n",
       "      <th>Reported Date</th>\n",
       "      <th>Client Gender</th>\n",
       "      <th>Outcome</th>\n",
       "      <th>Currently Hospitalized</th>\n",
       "      <th>Currently in ICU</th>\n",
       "      <th>Currently Intubated</th>\n",
       "      <th>Ever Hospitalized</th>\n",
       "      <th>Ever in ICU</th>\n",
       "      <th>Ever Intubated</th>\n",
       "    </tr>\n",
       "  </thead>\n",
       "  <tbody>\n",
       "    <tr>\n",
       "      <td>14686</td>\n",
       "      <td>29378</td>\n",
       "      <td>Outbreak Associated</td>\n",
       "      <td>50-59</td>\n",
       "      <td>NaN</td>\n",
       "      <td>NaN</td>\n",
       "      <td>N/A - Outbreak associated</td>\n",
       "      <td>CONFIRMED</td>\n",
       "      <td>2020-06-02</td>\n",
       "      <td>2020-06-03</td>\n",
       "      <td>FEMALE</td>\n",
       "      <td>RESOLVED</td>\n",
       "      <td>No</td>\n",
       "      <td>No</td>\n",
       "      <td>No</td>\n",
       "      <td>No</td>\n",
       "      <td>No</td>\n",
       "      <td>No</td>\n",
       "    </tr>\n",
       "    <tr>\n",
       "      <td>14687</td>\n",
       "      <td>29379</td>\n",
       "      <td>Outbreak Associated</td>\n",
       "      <td>50-59</td>\n",
       "      <td>NaN</td>\n",
       "      <td>NaN</td>\n",
       "      <td>N/A - Outbreak associated</td>\n",
       "      <td>CONFIRMED</td>\n",
       "      <td>2020-06-11</td>\n",
       "      <td>2020-06-15</td>\n",
       "      <td>FEMALE</td>\n",
       "      <td>RESOLVED</td>\n",
       "      <td>No</td>\n",
       "      <td>No</td>\n",
       "      <td>No</td>\n",
       "      <td>No</td>\n",
       "      <td>No</td>\n",
       "      <td>No</td>\n",
       "    </tr>\n",
       "    <tr>\n",
       "      <td>14688</td>\n",
       "      <td>29380</td>\n",
       "      <td>Outbreak Associated</td>\n",
       "      <td>20-29</td>\n",
       "      <td>NaN</td>\n",
       "      <td>NaN</td>\n",
       "      <td>N/A - Outbreak associated</td>\n",
       "      <td>CONFIRMED</td>\n",
       "      <td>2020-05-09</td>\n",
       "      <td>2020-05-23</td>\n",
       "      <td>FEMALE</td>\n",
       "      <td>RESOLVED</td>\n",
       "      <td>No</td>\n",
       "      <td>No</td>\n",
       "      <td>No</td>\n",
       "      <td>No</td>\n",
       "      <td>No</td>\n",
       "      <td>No</td>\n",
       "    </tr>\n",
       "    <tr>\n",
       "      <td>14689</td>\n",
       "      <td>29381</td>\n",
       "      <td>Outbreak Associated</td>\n",
       "      <td>40-49</td>\n",
       "      <td>NaN</td>\n",
       "      <td>NaN</td>\n",
       "      <td>N/A - Outbreak associated</td>\n",
       "      <td>CONFIRMED</td>\n",
       "      <td>2020-06-18</td>\n",
       "      <td>2020-06-19</td>\n",
       "      <td>FEMALE</td>\n",
       "      <td>RESOLVED</td>\n",
       "      <td>No</td>\n",
       "      <td>No</td>\n",
       "      <td>No</td>\n",
       "      <td>No</td>\n",
       "      <td>No</td>\n",
       "      <td>No</td>\n",
       "    </tr>\n",
       "    <tr>\n",
       "      <td>14690</td>\n",
       "      <td>29382</td>\n",
       "      <td>Outbreak Associated</td>\n",
       "      <td>50-59</td>\n",
       "      <td>NaN</td>\n",
       "      <td>NaN</td>\n",
       "      <td>N/A - Outbreak associated</td>\n",
       "      <td>CONFIRMED</td>\n",
       "      <td>2020-06-22</td>\n",
       "      <td>2020-06-23</td>\n",
       "      <td>FEMALE</td>\n",
       "      <td>ACTIVE</td>\n",
       "      <td>Yes</td>\n",
       "      <td>No</td>\n",
       "      <td>No</td>\n",
       "      <td>Yes</td>\n",
       "      <td>No</td>\n",
       "      <td>No</td>\n",
       "    </tr>\n",
       "  </tbody>\n",
       "</table>\n",
       "</div>"
      ],
      "text/plain": [
       "         _id  Outbreak Associated Age Group Neighbourhood Name  FSA  \\\n",
       "14686  29378  Outbreak Associated     50-59                NaN  NaN   \n",
       "14687  29379  Outbreak Associated     50-59                NaN  NaN   \n",
       "14688  29380  Outbreak Associated     20-29                NaN  NaN   \n",
       "14689  29381  Outbreak Associated     40-49                NaN  NaN   \n",
       "14690  29382  Outbreak Associated     50-59                NaN  NaN   \n",
       "\n",
       "             Source of Infection Classification Episode Date Reported Date  \\\n",
       "14686  N/A - Outbreak associated      CONFIRMED   2020-06-02    2020-06-03   \n",
       "14687  N/A - Outbreak associated      CONFIRMED   2020-06-11    2020-06-15   \n",
       "14688  N/A - Outbreak associated      CONFIRMED   2020-05-09    2020-05-23   \n",
       "14689  N/A - Outbreak associated      CONFIRMED   2020-06-18    2020-06-19   \n",
       "14690  N/A - Outbreak associated      CONFIRMED   2020-06-22    2020-06-23   \n",
       "\n",
       "      Client Gender   Outcome Currently Hospitalized Currently in ICU  \\\n",
       "14686        FEMALE  RESOLVED                     No               No   \n",
       "14687        FEMALE  RESOLVED                     No               No   \n",
       "14688        FEMALE  RESOLVED                     No               No   \n",
       "14689        FEMALE  RESOLVED                     No               No   \n",
       "14690        FEMALE    ACTIVE                    Yes               No   \n",
       "\n",
       "      Currently Intubated Ever Hospitalized Ever in ICU Ever Intubated  \n",
       "14686                  No                No          No             No  \n",
       "14687                  No                No          No             No  \n",
       "14688                  No                No          No             No  \n",
       "14689                  No                No          No             No  \n",
       "14690                  No               Yes          No             No  "
      ]
     },
     "execution_count": 10,
     "metadata": {},
     "output_type": "execute_result"
    }
   ],
   "source": [
    "covid19.tail()"
   ]
  },
  {
   "cell_type": "code",
   "execution_count": 13,
   "metadata": {},
   "outputs": [
    {
     "data": {
      "text/html": [
       "<div>\n",
       "<style scoped>\n",
       "    .dataframe tbody tr th:only-of-type {\n",
       "        vertical-align: middle;\n",
       "    }\n",
       "\n",
       "    .dataframe tbody tr th {\n",
       "        vertical-align: top;\n",
       "    }\n",
       "\n",
       "    .dataframe thead th {\n",
       "        text-align: right;\n",
       "    }\n",
       "</style>\n",
       "<table border=\"1\" class=\"dataframe\">\n",
       "  <thead>\n",
       "    <tr style=\"text-align: right;\">\n",
       "      <th></th>\n",
       "      <th>_id</th>\n",
       "    </tr>\n",
       "  </thead>\n",
       "  <tbody>\n",
       "    <tr>\n",
       "      <td>count</td>\n",
       "      <td>14691.000000</td>\n",
       "    </tr>\n",
       "    <tr>\n",
       "      <td>mean</td>\n",
       "      <td>22037.000000</td>\n",
       "    </tr>\n",
       "    <tr>\n",
       "      <td>std</td>\n",
       "      <td>4241.070737</td>\n",
       "    </tr>\n",
       "    <tr>\n",
       "      <td>min</td>\n",
       "      <td>14692.000000</td>\n",
       "    </tr>\n",
       "    <tr>\n",
       "      <td>25%</td>\n",
       "      <td>18364.500000</td>\n",
       "    </tr>\n",
       "    <tr>\n",
       "      <td>50%</td>\n",
       "      <td>22037.000000</td>\n",
       "    </tr>\n",
       "    <tr>\n",
       "      <td>75%</td>\n",
       "      <td>25709.500000</td>\n",
       "    </tr>\n",
       "    <tr>\n",
       "      <td>max</td>\n",
       "      <td>29382.000000</td>\n",
       "    </tr>\n",
       "  </tbody>\n",
       "</table>\n",
       "</div>"
      ],
      "text/plain": [
       "                _id\n",
       "count  14691.000000\n",
       "mean   22037.000000\n",
       "std     4241.070737\n",
       "min    14692.000000\n",
       "25%    18364.500000\n",
       "50%    22037.000000\n",
       "75%    25709.500000\n",
       "max    29382.000000"
      ]
     },
     "execution_count": 13,
     "metadata": {},
     "output_type": "execute_result"
    }
   ],
   "source": [
    "covid19.describe()"
   ]
  },
  {
   "cell_type": "code",
   "execution_count": 14,
   "metadata": {},
   "outputs": [
    {
     "ename": "NameError",
     "evalue": "name 'Covid19' is not defined",
     "output_type": "error",
     "traceback": [
      "\u001b[1;31m---------------------------------------------------------------------------\u001b[0m",
      "\u001b[1;31mNameError\u001b[0m                                 Traceback (most recent call last)",
      "\u001b[1;32m<ipython-input-14-5195b9f5e058>\u001b[0m in \u001b[0;36m<module>\u001b[1;34m\u001b[0m\n\u001b[1;32m----> 1\u001b[1;33m \u001b[0mCovid19\u001b[0m\u001b[1;33m.\u001b[0m\u001b[0mheatmap\u001b[0m\u001b[1;33m(\u001b[0m\u001b[1;33m)\u001b[0m\u001b[1;33m\u001b[0m\u001b[1;33m\u001b[0m\u001b[0m\n\u001b[0m",
      "\u001b[1;31mNameError\u001b[0m: name 'Covid19' is not defined"
     ]
    }
   ],
   "source": [
    "Covid19.heatmap()"
   ]
  },
  {
   "cell_type": "markdown",
   "metadata": {},
   "source": [
    "## Use of proper training and test set"
   ]
  },
  {
   "cell_type": "code",
   "execution_count": 22,
   "metadata": {},
   "outputs": [],
   "source": [
    "X=covid19['Outcome']\n",
    "Y=covid19['Age Group']"
   ]
  },
  {
   "cell_type": "code",
   "execution_count": 27,
   "metadata": {},
   "outputs": [],
   "source": [
    "Xtrain,Xtest,Ytrain,Ytest=train_test_split(X,Y,test_size=.20,random_state=0,shuffle=True)"
   ]
  },
  {
   "cell_type": "markdown",
   "metadata": {},
   "source": [
    "## Selection of appropriate layers"
   ]
  },
  {
   "cell_type": "markdown",
   "metadata": {},
   "source": [
    "## Measurement  of models performance "
   ]
  },
  {
   "cell_type": "markdown",
   "metadata": {},
   "source": [
    "## regulization "
   ]
  },
  {
   "cell_type": "markdown",
   "metadata": {},
   "source": [
    "## Overall breadth and depth of commentary/ explanations "
   ]
  },
  {
   "cell_type": "code",
   "execution_count": null,
   "metadata": {},
   "outputs": [],
   "source": []
  }
 ],
 "metadata": {
  "kernelspec": {
   "display_name": "Python 3",
   "language": "python",
   "name": "python3"
  },
  "language_info": {
   "codemirror_mode": {
    "name": "ipython",
    "version": 3
   },
   "file_extension": ".py",
   "mimetype": "text/x-python",
   "name": "python",
   "nbconvert_exporter": "python",
   "pygments_lexer": "ipython3",
   "version": "3.7.4"
  }
 },
 "nbformat": 4,
 "nbformat_minor": 2
}
